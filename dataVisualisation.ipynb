{
 "cells": [
  {
   "cell_type": "code",
   "execution_count": null,
   "metadata": {},
   "outputs": [],
   "source": [
    "import pandas as pd\n",
    "import matplotlib.pyplot as plt\n",
    "import numpy as np"
   ]
  },
  {
   "attachments": {},
   "cell_type": "markdown",
   "metadata": {},
   "source": [
    "## Initialise combined dataframe and get data source\n"
   ]
  },
  {
   "cell_type": "code",
   "execution_count": null,
   "metadata": {},
   "outputs": [],
   "source": [
    "combined_df = pd.DataFrame()\n",
    "excel_file = 'data/EDM 2022 Storm Overflow Annual Return - all water and sewerage companies.xlsx'\n",
    "excel_data = pd.ExcelFile(excel_file)"
   ]
  },
  {
   "attachments": {},
   "cell_type": "markdown",
   "metadata": {},
   "source": [
    "## Heading cleanup\n",
    "\n",
    "Headings are inconsistant in spelling and formatting. To resolve this issue, I am using the first sheet of headings. Also skipping the first row as it contains a workbook heading."
   ]
  },
  {
   "cell_type": "code",
   "execution_count": null,
   "metadata": {},
   "outputs": [],
   "source": [
    "first_sheet_name = excel_data.sheet_names[0]\n",
    "first_sheet_df = pd.read_excel(excel_file, sheet_name=first_sheet_name, skiprows=1)\n",
    "filters = first_sheet_df.columns.tolist()"
   ]
  },
  {
   "attachments": {},
   "cell_type": "markdown",
   "metadata": {},
   "source": [
    "Loops through each sheet in the excel_data"
   ]
  },
  {
   "cell_type": "code",
   "execution_count": null,
   "metadata": {},
   "outputs": [],
   "source": [
    "for sheet_name in excel_data.sheet_names:\n",
    "    sheet_df = pd.read_excel(excel_file, sheet_name=sheet_name, skiprows=1)\n",
    "    filtered_df = sheet_df[filters]\n",
    "    combined_df = combined_df._append(filtered_df, ignore_index=True)\n",
    "\n",
    "print(combined_df)"
   ]
  },
  {
   "cell_type": "code",
   "execution_count": null,
   "metadata": {},
   "outputs": [],
   "source": [
    "print(combined_df.columns)"
   ]
  },
  {
   "attachments": {},
   "cell_type": "markdown",
   "metadata": {},
   "source": [
    "Filter out uncessary columns"
   ]
  },
  {
   "cell_type": "code",
   "execution_count": null,
   "metadata": {},
   "outputs": [],
   "source": [
    "selected_columns = ['Water Company Name', \n",
    "                    #'Site Name(EA Consents Database)', \n",
    "                    'Counted spills using 12-24h count method',\n",
    "                    'Total Duration (hrs) all spills prior to processing through 12-24h count method'\n",
    "                    ]\n",
    "selected_df = combined_df[selected_columns]\n",
    "\n",
    "print(selected_df)"
   ]
  },
  {
   "attachments": {},
   "cell_type": "markdown",
   "metadata": {},
   "source": [
    "Total Spill count by water company"
   ]
  },
  {
   "cell_type": "code",
   "execution_count": null,
   "metadata": {},
   "outputs": [],
   "source": [
    "selected_df.loc[:, 'Total Duration (hrs) all spills prior to processing through 12-24h count method'] = pd.to_numeric(selected_df['Total Duration (hrs) all spills prior to processing through 12-24h count method'], errors='coerce')\n",
    "\n",
    "\n",
    "selected_df['Total Duration (hrs) all spills prior to processing through 12-24h count method'] = selected_df['Total Duration (hrs) all spills prior to processing through 12-24h count method'].fillna(0)\n",
    "\n",
    "\n",
    "\n",
    "print(selected_df)\n",
    "# Group the data by 'Water Company Name' and calculate the total spills\n",
    "grouped_df = selected_df.groupby('Water Company Name')['Total Duration (hrs) all spills prior to processing through 12-24h count method'].sum().round(2)\n",
    "plt.figure(figsize=(20, 12), facecolor='white')\n",
    "# Plot the bar chart\n",
    "colours = plt.cm.Set3(np.arange(len(grouped_df)))\n",
    "plt.bar(grouped_df.index, grouped_df.values, color=colours)\n",
    "plt.xlabel('Water Company', fontsize=20, backgroundcolor='white')\n",
    "plt.ylabel('Total Duration (hrs) of Sewage releases', fontsize =20, backgroundcolor='white')\n",
    "plt.title('Total Duration (hrs) of Sewage releases by Water Company in 2022', fontsize =32, backgroundcolor='white')\n",
    "for i, value in enumerate(grouped_df):\n",
    "    plt.text(i, value, str(value), ha='center', va='bottom', fontsize=12)\n",
    "plt.xticks(rotation=45, ha='right')\n",
    "plt.tight_layout()\n",
    "plt.savefig('Total Duration (hrs) of Sewage releases by Water Company.png in 2022.png', dpi=300, bbox_inches='tight')\n",
    "plt.show()\n",
    "\n"
   ]
  }
 ],
 "metadata": {
  "kernelspec": {
   "display_name": "Python 3",
   "language": "python",
   "name": "python3"
  },
  "language_info": {
   "codemirror_mode": {
    "name": "ipython",
    "version": 3
   },
   "file_extension": ".py",
   "mimetype": "text/x-python",
   "name": "python",
   "nbconvert_exporter": "python",
   "pygments_lexer": "ipython3",
   "version": "3.10.6"
  },
  "orig_nbformat": 4
 },
 "nbformat": 4,
 "nbformat_minor": 2
}
